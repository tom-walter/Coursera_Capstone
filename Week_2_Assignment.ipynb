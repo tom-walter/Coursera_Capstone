{
 "cells": [
  {
   "cell_type": "markdown",
   "metadata": {},
   "source": [
    "## Week 2 Assignment\n",
    "This Jupyter Notebook is submitted as part of the Applied Data Science Capstone Course (IBM & Coursera).\n",
    "\n",
    "## 2. Data Understanding\n",
    "### 2.1 Understanding the Dataset\n",
    "The purpose of this chapter is to gain a preliminary understanding of the Collision Dataset for the reason of selecting the label variable and potential features to predict it. In the next chapter, the selected label and feature variables will undergo pre-processing, which includes all measures of transforming and cleaning the data so that it can be read by the machine learning algorithm. "
   ]
  },
  {
   "cell_type": "code",
   "execution_count": 1,
   "metadata": {},
   "outputs": [],
   "source": [
    "# importing libraries\n",
    "import pandas as pd\n",
    "import numpy as np\n",
    "import matplotlib as mpl\n",
    "import matplotlib.pyplot as plt\n",
    "%matplotlib inline\n",
    "mpl.style.use(['ggplot'])"
   ]
  },
  {
   "cell_type": "code",
   "execution_count": null,
   "metadata": {},
   "outputs": [],
   "source": [
    "# download the dataset\n",
    "!wget -O DataCollision.csv https://s3.us.cloud-object-storage.appdomain.cloud/cf-courses-data/CognitiveClass/DP0701EN/version-2/Data-Collisions.csv"
   ]
  },
  {
   "cell_type": "code",
   "execution_count": 2,
   "metadata": {},
   "outputs": [
    {
     "name": "stderr",
     "output_type": "stream",
     "text": [
      "/home/jupyterlab/conda/envs/python/lib/python3.6/site-packages/IPython/core/interactiveshell.py:3072: DtypeWarning: Columns (33) have mixed types.Specify dtype option on import or set low_memory=False.\n",
      "  interactivity=interactivity, compiler=compiler, result=result)\n"
     ]
    },
    {
     "name": "stdout",
     "output_type": "stream",
     "text": [
      "(194673, 38)\n"
     ]
    },
    {
     "data": {
      "text/html": [
       "<div>\n",
       "<style scoped>\n",
       "    .dataframe tbody tr th:only-of-type {\n",
       "        vertical-align: middle;\n",
       "    }\n",
       "\n",
       "    .dataframe tbody tr th {\n",
       "        vertical-align: top;\n",
       "    }\n",
       "\n",
       "    .dataframe thead th {\n",
       "        text-align: right;\n",
       "    }\n",
       "</style>\n",
       "<table border=\"1\" class=\"dataframe\">\n",
       "  <thead>\n",
       "    <tr style=\"text-align: right;\">\n",
       "      <th></th>\n",
       "      <th>SEVERITYCODE</th>\n",
       "      <th>X</th>\n",
       "      <th>Y</th>\n",
       "      <th>OBJECTID</th>\n",
       "      <th>INCKEY</th>\n",
       "      <th>COLDETKEY</th>\n",
       "      <th>REPORTNO</th>\n",
       "      <th>STATUS</th>\n",
       "      <th>ADDRTYPE</th>\n",
       "      <th>INTKEY</th>\n",
       "      <th>...</th>\n",
       "      <th>ROADCOND</th>\n",
       "      <th>LIGHTCOND</th>\n",
       "      <th>PEDROWNOTGRNT</th>\n",
       "      <th>SDOTCOLNUM</th>\n",
       "      <th>SPEEDING</th>\n",
       "      <th>ST_COLCODE</th>\n",
       "      <th>ST_COLDESC</th>\n",
       "      <th>SEGLANEKEY</th>\n",
       "      <th>CROSSWALKKEY</th>\n",
       "      <th>HITPARKEDCAR</th>\n",
       "    </tr>\n",
       "  </thead>\n",
       "  <tbody>\n",
       "    <tr>\n",
       "      <th>0</th>\n",
       "      <td>2</td>\n",
       "      <td>-122.323148</td>\n",
       "      <td>47.703140</td>\n",
       "      <td>1</td>\n",
       "      <td>1307</td>\n",
       "      <td>1307</td>\n",
       "      <td>3502005</td>\n",
       "      <td>Matched</td>\n",
       "      <td>Intersection</td>\n",
       "      <td>37475.0</td>\n",
       "      <td>...</td>\n",
       "      <td>Wet</td>\n",
       "      <td>Daylight</td>\n",
       "      <td>NaN</td>\n",
       "      <td>NaN</td>\n",
       "      <td>NaN</td>\n",
       "      <td>10</td>\n",
       "      <td>Entering at angle</td>\n",
       "      <td>0</td>\n",
       "      <td>0</td>\n",
       "      <td>N</td>\n",
       "    </tr>\n",
       "    <tr>\n",
       "      <th>1</th>\n",
       "      <td>1</td>\n",
       "      <td>-122.347294</td>\n",
       "      <td>47.647172</td>\n",
       "      <td>2</td>\n",
       "      <td>52200</td>\n",
       "      <td>52200</td>\n",
       "      <td>2607959</td>\n",
       "      <td>Matched</td>\n",
       "      <td>Block</td>\n",
       "      <td>NaN</td>\n",
       "      <td>...</td>\n",
       "      <td>Wet</td>\n",
       "      <td>Dark - Street Lights On</td>\n",
       "      <td>NaN</td>\n",
       "      <td>6354039.0</td>\n",
       "      <td>NaN</td>\n",
       "      <td>11</td>\n",
       "      <td>From same direction - both going straight - bo...</td>\n",
       "      <td>0</td>\n",
       "      <td>0</td>\n",
       "      <td>N</td>\n",
       "    </tr>\n",
       "  </tbody>\n",
       "</table>\n",
       "<p>2 rows × 38 columns</p>\n",
       "</div>"
      ],
      "text/plain": [
       "   SEVERITYCODE           X          Y  OBJECTID  INCKEY  COLDETKEY REPORTNO  \\\n",
       "0             2 -122.323148  47.703140         1    1307       1307  3502005   \n",
       "1             1 -122.347294  47.647172         2   52200      52200  2607959   \n",
       "\n",
       "    STATUS      ADDRTYPE   INTKEY  ... ROADCOND                LIGHTCOND  \\\n",
       "0  Matched  Intersection  37475.0  ...      Wet                 Daylight   \n",
       "1  Matched         Block      NaN  ...      Wet  Dark - Street Lights On   \n",
       "\n",
       "  PEDROWNOTGRNT  SDOTCOLNUM SPEEDING ST_COLCODE  \\\n",
       "0           NaN         NaN      NaN         10   \n",
       "1           NaN   6354039.0      NaN         11   \n",
       "\n",
       "                                          ST_COLDESC  SEGLANEKEY  \\\n",
       "0                                  Entering at angle           0   \n",
       "1  From same direction - both going straight - bo...           0   \n",
       "\n",
       "   CROSSWALKKEY  HITPARKEDCAR  \n",
       "0             0             N  \n",
       "1             0             N  \n",
       "\n",
       "[2 rows x 38 columns]"
      ]
     },
     "execution_count": 2,
     "metadata": {},
     "output_type": "execute_result"
    }
   ],
   "source": [
    "# read the dataset into dataframe \n",
    "df = pd.read_csv('DataCollision.csv')\n",
    "print(df.shape)\n",
    "df.head(2)"
   ]
  },
  {
   "cell_type": "markdown",
   "metadata": {},
   "source": [
    "As stated before, this report uses the Collision Dataset from the city of Seattle.  The given dataset has 194,673 rows of observations, i.e. reported collisions, and 38 columns, which correspond to various attributes about and around the collisions. The dependent variable, also known as label, is the class that the classification algorithm should predict. In the Collision Dataset, the label is `SEVERITYCODE` , which can take two values: \n",
    "- 1 = property damage only,\n",
    "- 2 = injury collision.\n",
    "\n",
    "Of those collisions, 136,485 belong to class 1, property damage, and 58,188 belong to class 2, injury collision. An imbalance in the labels is natural in with real-world phenomena but will bias the machine learning algorithm. The issue of imbalance will be addressed in the next chapter. The information about the label can be taken either from the metadata or from the column `SEVERITYDESC`.  Thus, `SEVERITYCODE.1` being a duplicate of `SEVERITYCODE` can be dropped along with `SEVERITYDESC` and `COLLISIONTYPE`."
   ]
  },
  {
   "cell_type": "code",
   "execution_count": 3,
   "metadata": {},
   "outputs": [
    {
     "data": {
      "text/plain": [
       "SEVERITYDESC                    SEVERITYCODE\n",
       "Injury Collision                2                58188\n",
       "Property Damage Only Collision  1               136485\n",
       "Name: SEVERITYCODE, dtype: int64"
      ]
     },
     "execution_count": 3,
     "metadata": {},
     "output_type": "execute_result"
    }
   ],
   "source": [
    "df.groupby(['SEVERITYDESC'])['SEVERITYCODE'].value_counts()"
   ]
  },
  {
   "cell_type": "code",
   "execution_count": 4,
   "metadata": {},
   "outputs": [
    {
     "data": {
      "text/plain": [
       "Text(0.5, 1.0, 'Collisions Severity (imbalanced)')"
      ]
     },
     "execution_count": 4,
     "metadata": {},
     "output_type": "execute_result"
    },
    {
     "data": {
      "image/png": "[encoded data removed]",
      "text/plain": [
       "<Figure size 432x288 with 1 Axes>"
      ]
     },
     "metadata": {},
     "output_type": "display_data"
    }
   ],
   "source": [
    "df.SEVERITYCODE.value_counts().plot(kind='bar', color='b')\n",
    "plt.xlabel('Severity Code (1: prop damage, 2: injury)')\n",
    "plt.ylabel('Number of Collisions')\n",
    "plt.title('Collisions Severity (imbalanced)')"
   ]
  },
  {
   "cell_type": "markdown",
   "metadata": {},
   "source": [
    "The metadata also reveals that there are several columns that contain unique identification keys for each collision, but which hold no value for a machine learning algorithm.  They serve the authority or organization that created them for cross-referencing purposes. Among those columns are `OBJECTID, INCKEY, COLDETKEY, REPORTNO, STATUS, INTKEY, EXCEPTRSNCODE, EXCEPTRSNDESC, SDOT_COLCODE, SDOT_COLDESC, SDOTCOLNUM, ST_COLCODE, ST_COLDESC, SEGLANEKEY,` and `CROSSWALKKEY`. As they hold no value for machine learning, they can also be dropped to narrow the feature set.\n",
    "\n",
    "The remaining columns describe either the outcome of the collision or the conditions surrounding the accident. Among those that describe the outcome of the collision are `PERSONCOUNT, PEDCOUNT, PEDCYLCOUNT,` and `VEHCOUNT` (continuous) as well as `PEDROWNOTGRNT` and `HITPARKEDCAR` (categorical). They describe the number of various traffic participants and vehicles affected by the accident. Although continuous variables are generally a good source of information for supervised machine learning algorithm, the causality (cause-effect direction) is important. Especially, `PERSONCOUNT` or `VEHCOUNT` would make excellent target variables for prediction in a different type of supervised machine learning algorithm, namely regression. They are not truly independent of the collision or its severity but rather the result of it. Therefore, these columns are also be dropped."
   ]
  },
  {
   "cell_type": "code",
   "execution_count": 5,
   "metadata": {},
   "outputs": [
    {
     "data": {
      "text/html": [
       "<div>\n",
       "<style scoped>\n",
       "    .dataframe tbody tr th:only-of-type {\n",
       "        vertical-align: middle;\n",
       "    }\n",
       "\n",
       "    .dataframe tbody tr th {\n",
       "        vertical-align: top;\n",
       "    }\n",
       "\n",
       "    .dataframe thead th {\n",
       "        text-align: right;\n",
       "    }\n",
       "</style>\n",
       "<table border=\"1\" class=\"dataframe\">\n",
       "  <thead>\n",
       "    <tr style=\"text-align: right;\">\n",
       "      <th></th>\n",
       "      <th>SEVERITYCODE</th>\n",
       "      <th>X</th>\n",
       "      <th>Y</th>\n",
       "      <th>ADDRTYPE</th>\n",
       "      <th>LOCATION</th>\n",
       "      <th>INCDATE</th>\n",
       "      <th>INCDTTM</th>\n",
       "      <th>JUNCTIONTYPE</th>\n",
       "      <th>INATTENTIONIND</th>\n",
       "      <th>UNDERINFL</th>\n",
       "      <th>WEATHER</th>\n",
       "      <th>ROADCOND</th>\n",
       "      <th>LIGHTCOND</th>\n",
       "      <th>SPEEDING</th>\n",
       "    </tr>\n",
       "  </thead>\n",
       "  <tbody>\n",
       "    <tr>\n",
       "      <th>0</th>\n",
       "      <td>2</td>\n",
       "      <td>-122.323148</td>\n",
       "      <td>47.703140</td>\n",
       "      <td>Intersection</td>\n",
       "      <td>5TH AVE NE AND NE 103RD ST</td>\n",
       "      <td>2013/03/27 00:00:00+00</td>\n",
       "      <td>3/27/2013 2:54:00 PM</td>\n",
       "      <td>At Intersection (intersection related)</td>\n",
       "      <td>NaN</td>\n",
       "      <td>N</td>\n",
       "      <td>Overcast</td>\n",
       "      <td>Wet</td>\n",
       "      <td>Daylight</td>\n",
       "      <td>NaN</td>\n",
       "    </tr>\n",
       "    <tr>\n",
       "      <th>1</th>\n",
       "      <td>1</td>\n",
       "      <td>-122.347294</td>\n",
       "      <td>47.647172</td>\n",
       "      <td>Block</td>\n",
       "      <td>AURORA BR BETWEEN RAYE ST AND BRIDGE WAY N</td>\n",
       "      <td>2006/12/20 00:00:00+00</td>\n",
       "      <td>12/20/2006 6:55:00 PM</td>\n",
       "      <td>Mid-Block (not related to intersection)</td>\n",
       "      <td>NaN</td>\n",
       "      <td>0</td>\n",
       "      <td>Raining</td>\n",
       "      <td>Wet</td>\n",
       "      <td>Dark - Street Lights On</td>\n",
       "      <td>NaN</td>\n",
       "    </tr>\n",
       "  </tbody>\n",
       "</table>\n",
       "</div>"
      ],
      "text/plain": [
       "   SEVERITYCODE           X          Y      ADDRTYPE  \\\n",
       "0             2 -122.323148  47.703140  Intersection   \n",
       "1             1 -122.347294  47.647172         Block   \n",
       "\n",
       "                                     LOCATION                 INCDATE  \\\n",
       "0                  5TH AVE NE AND NE 103RD ST  2013/03/27 00:00:00+00   \n",
       "1  AURORA BR BETWEEN RAYE ST AND BRIDGE WAY N  2006/12/20 00:00:00+00   \n",
       "\n",
       "                 INCDTTM                             JUNCTIONTYPE  \\\n",
       "0   3/27/2013 2:54:00 PM   At Intersection (intersection related)   \n",
       "1  12/20/2006 6:55:00 PM  Mid-Block (not related to intersection)   \n",
       "\n",
       "  INATTENTIONIND UNDERINFL   WEATHER ROADCOND                LIGHTCOND  \\\n",
       "0            NaN         N  Overcast      Wet                 Daylight   \n",
       "1            NaN         0   Raining      Wet  Dark - Street Lights On   \n",
       "\n",
       "  SPEEDING  \n",
       "0      NaN  \n",
       "1      NaN  "
      ]
     },
     "execution_count": 5,
     "metadata": {},
     "output_type": "execute_result"
    }
   ],
   "source": [
    "# dropping unusable features\n",
    "df = df.drop(columns=[\"SEVERITYCODE.1\", \"SEVERITYDESC\", \"COLLISIONTYPE\",\n",
    "                     \"OBJECTID\", \"INCKEY\", \"COLDETKEY\", \"REPORTNO\", \"STATUS\", \"INTKEY\", \"EXCEPTRSNCODE\", \"EXCEPTRSNDESC\", \"SDOT_COLCODE\", \n",
    "                      \"SDOT_COLDESC\", \"SDOTCOLNUM\", \"ST_COLCODE\", \"ST_COLDESC\", \"SEGLANEKEY\", \"CROSSWALKKEY\",\n",
    "                     \"PERSONCOUNT\", \"PEDCOUNT\", \"PEDCYLCOUNT\", \"VEHCOUNT\", \"PEDROWNOTGRNT\", \"HITPARKEDCAR\" \n",
    "                     ])\n",
    "df.head(2)"
   ]
  },
  {
   "cell_type": "markdown",
   "metadata": {},
   "source": [
    "### 2.2 Feature Selection\n",
    "Now, the rest of the features only describe the conditions before or surrounding the collision. The variables given as `X` and `Y` refer to longitude and latitude respectively (and are renamed as such), and they also make a written address in the variables `LOCATION` and `ADDRTYPE` redundant."
   ]
  },
  {
   "cell_type": "code",
   "execution_count": 6,
   "metadata": {},
   "outputs": [
    {
     "data": {
      "text/html": [
       "<div>\n",
       "<style scoped>\n",
       "    .dataframe tbody tr th:only-of-type {\n",
       "        vertical-align: middle;\n",
       "    }\n",
       "\n",
       "    .dataframe tbody tr th {\n",
       "        vertical-align: top;\n",
       "    }\n",
       "\n",
       "    .dataframe thead th {\n",
       "        text-align: right;\n",
       "    }\n",
       "</style>\n",
       "<table border=\"1\" class=\"dataframe\">\n",
       "  <thead>\n",
       "    <tr style=\"text-align: right;\">\n",
       "      <th></th>\n",
       "      <th>SEVERITYCODE</th>\n",
       "      <th>LONGITUDE</th>\n",
       "      <th>LATITUDE</th>\n",
       "      <th>INCDATE</th>\n",
       "      <th>INCDTTM</th>\n",
       "      <th>JUNCTIONTYPE</th>\n",
       "      <th>INATTENTIONIND</th>\n",
       "      <th>UNDERINFL</th>\n",
       "      <th>WEATHER</th>\n",
       "      <th>ROADCOND</th>\n",
       "      <th>LIGHTCOND</th>\n",
       "      <th>SPEEDING</th>\n",
       "    </tr>\n",
       "  </thead>\n",
       "  <tbody>\n",
       "    <tr>\n",
       "      <th>0</th>\n",
       "      <td>2</td>\n",
       "      <td>-122.323148</td>\n",
       "      <td>47.703140</td>\n",
       "      <td>2013/03/27 00:00:00+00</td>\n",
       "      <td>3/27/2013 2:54:00 PM</td>\n",
       "      <td>At Intersection (intersection related)</td>\n",
       "      <td>NaN</td>\n",
       "      <td>N</td>\n",
       "      <td>Overcast</td>\n",
       "      <td>Wet</td>\n",
       "      <td>Daylight</td>\n",
       "      <td>NaN</td>\n",
       "    </tr>\n",
       "    <tr>\n",
       "      <th>1</th>\n",
       "      <td>1</td>\n",
       "      <td>-122.347294</td>\n",
       "      <td>47.647172</td>\n",
       "      <td>2006/12/20 00:00:00+00</td>\n",
       "      <td>12/20/2006 6:55:00 PM</td>\n",
       "      <td>Mid-Block (not related to intersection)</td>\n",
       "      <td>NaN</td>\n",
       "      <td>0</td>\n",
       "      <td>Raining</td>\n",
       "      <td>Wet</td>\n",
       "      <td>Dark - Street Lights On</td>\n",
       "      <td>NaN</td>\n",
       "    </tr>\n",
       "  </tbody>\n",
       "</table>\n",
       "</div>"
      ],
      "text/plain": [
       "   SEVERITYCODE   LONGITUDE   LATITUDE                 INCDATE  \\\n",
       "0             2 -122.323148  47.703140  2013/03/27 00:00:00+00   \n",
       "1             1 -122.347294  47.647172  2006/12/20 00:00:00+00   \n",
       "\n",
       "                 INCDTTM                             JUNCTIONTYPE  \\\n",
       "0   3/27/2013 2:54:00 PM   At Intersection (intersection related)   \n",
       "1  12/20/2006 6:55:00 PM  Mid-Block (not related to intersection)   \n",
       "\n",
       "  INATTENTIONIND UNDERINFL   WEATHER ROADCOND                LIGHTCOND  \\\n",
       "0            NaN         N  Overcast      Wet                 Daylight   \n",
       "1            NaN         0   Raining      Wet  Dark - Street Lights On   \n",
       "\n",
       "  SPEEDING  \n",
       "0      NaN  \n",
       "1      NaN  "
      ]
     },
     "execution_count": 6,
     "metadata": {},
     "output_type": "execute_result"
    }
   ],
   "source": [
    "# renaming X and Y, dropping ADDRTYPE and LOCATION \n",
    "df = df.rename(columns={'X': 'LONGITUDE', 'Y': 'LATITUDE'})\n",
    "df = df.drop(columns=[\"ADDRTYPE\", \"LOCATION\"])\n",
    "df.head(2)"
   ]
  },
  {
   "cell_type": "markdown",
   "metadata": {},
   "source": [
    "The categorical variables `JUNCTIONTYPE, WEATHER, ROADCOND,` and `LIGHTCOND` describe the environmental factors and can be considered independent variables. They will be kept as features whose variation may explain the variation in collision severity. Similarly, the variation in the `INCDATE` and `INCDTTM` may help to explain the variation in the collision severity. Likewise, the variation in human behavior as observed by the columns `INATTENTIONIND, UNDERINFL,` and `SPEEDING` may help explain the variation in collision severity. As they precede the accident, they can also be considered independent variables and kept as features.\n",
    "\n",
    "|   | Variable         | Description                 |\n",
    "|--:|------------------|-----------------------------|\n",
    "|1  | SEVERITYCODE     | code for the severity of the collision (1: prop damage, 2: injury) |\n",
    "|2  | LONGITUDE        | longitude                   |\n",
    "|3  | LATITUDE         | latitude                    |\n",
    "|4  | JUNCTIONTYPE     | category of junction at which collision took place |\n",
    "|5  | WEATHER          | description of the weather conditions during the collision |\n",
    "|6  | ROADCOND         | condition of the road during the collision |\n",
    "|7  | LIGHTCOND        | light conditions during the collision |\n",
    "|8  | INCDATE          | date of the incident |\n",
    "|9  | INDTTME          | date and time of the incident |\n",
    "|10 | INATTENTIONIND   |whether or not collision was due to inattention |\n",
    "|11 | UNDERINFL        |whether or not driver was involved under the influence of drugs or alcohol |\n",
    "|12 | SPEEDING         |whether or not the speeding was a factor in the collision |\n"
   ]
  },
  {
   "cell_type": "markdown",
   "metadata": {},
   "source": [
    "## 3. Data Preparation\n",
    "The ultimate purpose of this chapter is to ready the pre-selected variable set for machine learning. Data preparation, also called pre-processing, includes steps such as exploratory data analysis (EDA) to confirm the selection of features, dealing with missing values, and converting variables into machine-legible data types. These steps will be applied to the environmental variables, human behavior variables and date-time variables. At the end, this chapter will also address the issue of label imbalance and employ a resampling method for balancing.\n",
    "\n",
    "### 3.1 Environmental Variables\n",
    "`LONGITUDE` and `LATITUDE` are continuous, numerical variables that together pinpoint the location of each recorded collision. Their minimum and maximum value map a square-shaped area of Seattle in which all collisions have been recorded. `LONGITUDE` and `LATITUDE` have 5,334 missing values. Common strategies of dealing with missing values in continuous variables are by replacing them either with their median or their mean. In this case, the median would just the point to the center of the square-shaped map of Seattle. But the mean would generally point to the area were collisions happen most frequently. `LONGITUDE` has a mean of approximately -122.33052 and `LATITUDE` has a mean of approximately 47.61954. Their missing values will be replaced with their mean values respectively."
   ]
  },
  {
   "cell_type": "code",
   "execution_count": 7,
   "metadata": {},
   "outputs": [
    {
     "name": "stdout",
     "output_type": "stream",
     "text": [
      "Longitude has its upper border at -122.2389494 and its lower border at -122.41909109999999 .\n",
      "Latitude has its upper border at 47.73414158 and its lower border at 47.49557292 .\n"
     ]
    }
   ],
   "source": [
    "print(\"Longitude has its upper border at\", df[\"LONGITUDE\"].max(), \"and its lower border at\", df[\"LONGITUDE\"].min(), \".\")\n",
    "print(\"Latitude has its upper border at\", df[\"LATITUDE\"].max(), \"and its lower border at\", df[\"LATITUDE\"].min(), \".\")"
   ]
  },
  {
   "cell_type": "code",
   "execution_count": 8,
   "metadata": {},
   "outputs": [
    {
     "name": "stdout",
     "output_type": "stream",
     "text": [
      "Longitude has 5334 missing values.\n",
      "Latitude has 5334 missing values.\n"
     ]
    }
   ],
   "source": [
    "print(\"Longitude has\", df[\"LONGITUDE\"].isna().sum(), \"missing values.\")\n",
    "print(\"Latitude has\", df[\"LATITUDE\"].isna().sum(), \"missing values.\")"
   ]
  },
  {
   "cell_type": "code",
   "execution_count": 9,
   "metadata": {},
   "outputs": [
    {
     "data": {
      "text/plain": [
       "<seaborn.axisgrid.JointGrid at 0x7fbabfaa9240>"
      ]
     },
     "execution_count": 9,
     "metadata": {},
     "output_type": "execute_result"
    },
    {
     "data": {
      "image/png": "[encoded data removed]",
      "text/plain": [
       "<Figure size 432x432 with 3 Axes>"
      ]
     },
     "metadata": {},
     "output_type": "display_data"
    }
   ],
   "source": [
    "import seaborn as sns\n",
    "sns.set(style=\"darkgrid\")\n",
    "sns.set(rc={'figure.figsize':(10,10)})\n",
    "sns.jointplot(x=\"LONGITUDE\", y=\"LATITUDE\", data=df)"
   ]
  },
  {
   "cell_type": "code",
   "execution_count": 10,
   "metadata": {},
   "outputs": [
    {
     "name": "stdout",
     "output_type": "stream",
     "text": [
      "Longitude has a mean of -122.33052 .\n",
      "Latitude has a mean o 47.61954 .\n"
     ]
    }
   ],
   "source": [
    "print(\"Longitude has a mean of %.5f\" % df[\"LONGITUDE\"].mean(), \".\")\n",
    "print(\"Latitude has a mean o %.5f\" % df[\"LATITUDE\"].mean(), \".\")"
   ]
  },
  {
   "cell_type": "code",
   "execution_count": 11,
   "metadata": {},
   "outputs": [
    {
     "name": "stdout",
     "output_type": "stream",
     "text": [
      "-122.330518    5334\n",
      "-122.332653     265\n",
      "-122.344896     254\n",
      "-122.328079     252\n",
      "-122.344997     239\n",
      "               ... \n",
      "-122.322768       1\n",
      "-122.288680       1\n",
      "-122.405699       1\n",
      "-122.323578       1\n",
      "-122.343898       1\n",
      "Name: LONGITUDE, Length: 23564, dtype: int64\n",
      "0\n"
     ]
    }
   ],
   "source": [
    "avg_LONGITUDE = df[\"LONGITUDE\"].astype(\"float\").mean()\n",
    "df[\"LONGITUDE\"].fillna(avg_LONGITUDE, inplace=True)\n",
    "avg_LATITUDE = df[\"LATITUDE\"].astype(\"float\").mean()\n",
    "df[\"LATITUDE\"].fillna(avg_LATITUDE, inplace=True)\n",
    "print(df[\"LONGITUDE\"].value_counts())\n",
    "print(df[\"LONGITUDE\"].isna().sum())"
   ]
  },
  {
   "cell_type": "markdown",
   "metadata": {},
   "source": [
    "Next, `JUNCTIONTYPE, WEATHER, ROADCOND,` and `LIGHTCOND` are all categorical variables that describe the place and surrounding conditions of the accident. A common strategy of replacing missing values is to replace with the mode, the most frequent value.\n",
    "\n",
    "For `JUNCTIONTYPE,` the mode is “Mid-Block (not related to intersection)” and it replaces 6,329 missing variables. “Unknown” values are dropped because their weight is insignificant. Afterwards, the different categories are converted into dummy variables for the machine learning algorithm, and the original variable `JUNCTIONTYPE` is dropped."
   ]
  },
  {
   "cell_type": "code",
   "execution_count": 12,
   "metadata": {},
   "outputs": [
    {
     "name": "stdout",
     "output_type": "stream",
     "text": [
      "JUNCTIONTYPE                                       SEVERITYCODE\n",
      "At Intersection (but not related to intersection)  1                1475\n",
      "                                                   2                 623\n",
      "At Intersection (intersection related)             1               35636\n",
      "                                                   2               27174\n",
      "Driveway Junction                                  1                7437\n",
      "                                                   2                3234\n",
      "Mid-Block (but intersection related)               1               15493\n",
      "                                                   2                7297\n",
      "Mid-Block (not related to intersection)            1               70396\n",
      "                                                   2               19404\n",
      "Ramp Junction                                      1                 112\n",
      "                                                   2                  54\n",
      "Unknown                                            1                   7\n",
      "                                                   2                   2\n",
      "Name: SEVERITYCODE, dtype: int64\n",
      "6329\n"
     ]
    },
    {
     "data": {
      "image/png": "[encoded data removed]",
      "text/plain": [
       "<Figure size 720x720 with 1 Axes>"
      ]
     },
     "metadata": {},
     "output_type": "display_data"
    }
   ],
   "source": [
    "order = df[\"JUNCTIONTYPE\"].value_counts().to_frame()\n",
    "ax = sns.countplot(y=\"JUNCTIONTYPE\", hue=\"SEVERITYCODE\", order=order.index, data=df)\n",
    "print(df.groupby(['JUNCTIONTYPE'])['SEVERITYCODE'].value_counts())\n",
    "print(df[\"JUNCTIONTYPE\"].isna().sum())"
   ]
  },
  {
   "cell_type": "code",
   "execution_count": 13,
   "metadata": {},
   "outputs": [
    {
     "data": {
      "text/html": [
       "<div>\n",
       "<style scoped>\n",
       "    .dataframe tbody tr th:only-of-type {\n",
       "        vertical-align: middle;\n",
       "    }\n",
       "\n",
       "    .dataframe tbody tr th {\n",
       "        vertical-align: top;\n",
       "    }\n",
       "\n",
       "    .dataframe thead th {\n",
       "        text-align: right;\n",
       "    }\n",
       "</style>\n",
       "<table border=\"1\" class=\"dataframe\">\n",
       "  <thead>\n",
       "    <tr style=\"text-align: right;\">\n",
       "      <th></th>\n",
       "      <th>SEVERITYCODE</th>\n",
       "      <th>LONGITUDE</th>\n",
       "      <th>LATITUDE</th>\n",
       "      <th>INCDATE</th>\n",
       "      <th>INCDTTM</th>\n",
       "      <th>INATTENTIONIND</th>\n",
       "      <th>UNDERINFL</th>\n",
       "      <th>WEATHER</th>\n",
       "      <th>ROADCOND</th>\n",
       "      <th>LIGHTCOND</th>\n",
       "      <th>SPEEDING</th>\n",
       "      <th>At Intersection (but not related to intersection)</th>\n",
       "      <th>At Intersection (intersection related)</th>\n",
       "      <th>Driveway Junction</th>\n",
       "      <th>Mid-Block (but intersection related)</th>\n",
       "      <th>Mid-Block (not related to intersection)</th>\n",
       "      <th>Ramp Junction</th>\n",
       "    </tr>\n",
       "  </thead>\n",
       "  <tbody>\n",
       "    <tr>\n",
       "      <th>0</th>\n",
       "      <td>2</td>\n",
       "      <td>-122.323148</td>\n",
       "      <td>47.703140</td>\n",
       "      <td>2013/03/27 00:00:00+00</td>\n",
       "      <td>3/27/2013 2:54:00 PM</td>\n",
       "      <td>NaN</td>\n",
       "      <td>N</td>\n",
       "      <td>Overcast</td>\n",
       "      <td>Wet</td>\n",
       "      <td>Daylight</td>\n",
       "      <td>NaN</td>\n",
       "      <td>0</td>\n",
       "      <td>1</td>\n",
       "      <td>0</td>\n",
       "      <td>0</td>\n",
       "      <td>0</td>\n",
       "      <td>0</td>\n",
       "    </tr>\n",
       "    <tr>\n",
       "      <th>1</th>\n",
       "      <td>1</td>\n",
       "      <td>-122.347294</td>\n",
       "      <td>47.647172</td>\n",
       "      <td>2006/12/20 00:00:00+00</td>\n",
       "      <td>12/20/2006 6:55:00 PM</td>\n",
       "      <td>NaN</td>\n",
       "      <td>0</td>\n",
       "      <td>Raining</td>\n",
       "      <td>Wet</td>\n",
       "      <td>Dark - Street Lights On</td>\n",
       "      <td>NaN</td>\n",
       "      <td>0</td>\n",
       "      <td>0</td>\n",
       "      <td>0</td>\n",
       "      <td>0</td>\n",
       "      <td>1</td>\n",
       "      <td>0</td>\n",
       "    </tr>\n",
       "    <tr>\n",
       "      <th>2</th>\n",
       "      <td>1</td>\n",
       "      <td>-122.334540</td>\n",
       "      <td>47.607871</td>\n",
       "      <td>2004/11/18 00:00:00+00</td>\n",
       "      <td>11/18/2004 10:20:00 AM</td>\n",
       "      <td>NaN</td>\n",
       "      <td>0</td>\n",
       "      <td>Overcast</td>\n",
       "      <td>Dry</td>\n",
       "      <td>Daylight</td>\n",
       "      <td>NaN</td>\n",
       "      <td>0</td>\n",
       "      <td>0</td>\n",
       "      <td>0</td>\n",
       "      <td>0</td>\n",
       "      <td>1</td>\n",
       "      <td>0</td>\n",
       "    </tr>\n",
       "    <tr>\n",
       "      <th>3</th>\n",
       "      <td>1</td>\n",
       "      <td>-122.334803</td>\n",
       "      <td>47.604803</td>\n",
       "      <td>2013/03/29 00:00:00+00</td>\n",
       "      <td>3/29/2013 9:26:00 AM</td>\n",
       "      <td>NaN</td>\n",
       "      <td>N</td>\n",
       "      <td>Clear</td>\n",
       "      <td>Dry</td>\n",
       "      <td>Daylight</td>\n",
       "      <td>NaN</td>\n",
       "      <td>0</td>\n",
       "      <td>0</td>\n",
       "      <td>0</td>\n",
       "      <td>0</td>\n",
       "      <td>1</td>\n",
       "      <td>0</td>\n",
       "    </tr>\n",
       "    <tr>\n",
       "      <th>4</th>\n",
       "      <td>2</td>\n",
       "      <td>-122.306426</td>\n",
       "      <td>47.545739</td>\n",
       "      <td>2004/01/28 00:00:00+00</td>\n",
       "      <td>1/28/2004 8:04:00 AM</td>\n",
       "      <td>NaN</td>\n",
       "      <td>0</td>\n",
       "      <td>Raining</td>\n",
       "      <td>Wet</td>\n",
       "      <td>Daylight</td>\n",
       "      <td>NaN</td>\n",
       "      <td>0</td>\n",
       "      <td>1</td>\n",
       "      <td>0</td>\n",
       "      <td>0</td>\n",
       "      <td>0</td>\n",
       "      <td>0</td>\n",
       "    </tr>\n",
       "  </tbody>\n",
       "</table>\n",
       "</div>"
      ],
      "text/plain": [
       "   SEVERITYCODE   LONGITUDE   LATITUDE                 INCDATE  \\\n",
       "0             2 -122.323148  47.703140  2013/03/27 00:00:00+00   \n",
       "1             1 -122.347294  47.647172  2006/12/20 00:00:00+00   \n",
       "2             1 -122.334540  47.607871  2004/11/18 00:00:00+00   \n",
       "3             1 -122.334803  47.604803  2013/03/29 00:00:00+00   \n",
       "4             2 -122.306426  47.545739  2004/01/28 00:00:00+00   \n",
       "\n",
       "                  INCDTTM INATTENTIONIND UNDERINFL   WEATHER ROADCOND  \\\n",
       "0    3/27/2013 2:54:00 PM            NaN         N  Overcast      Wet   \n",
       "1   12/20/2006 6:55:00 PM            NaN         0   Raining      Wet   \n",
       "2  11/18/2004 10:20:00 AM            NaN         0  Overcast      Dry   \n",
       "3    3/29/2013 9:26:00 AM            NaN         N     Clear      Dry   \n",
       "4    1/28/2004 8:04:00 AM            NaN         0   Raining      Wet   \n",
       "\n",
       "                 LIGHTCOND SPEEDING  \\\n",
       "0                 Daylight      NaN   \n",
       "1  Dark - Street Lights On      NaN   \n",
       "2                 Daylight      NaN   \n",
       "3                 Daylight      NaN   \n",
       "4                 Daylight      NaN   \n",
       "\n",
       "   At Intersection (but not related to intersection)  \\\n",
       "0                                                  0   \n",
       "1                                                  0   \n",
       "2                                                  0   \n",
       "3                                                  0   \n",
       "4                                                  0   \n",
       "\n",
       "   At Intersection (intersection related)  Driveway Junction  \\\n",
       "0                                       1                  0   \n",
       "1                                       0                  0   \n",
       "2                                       0                  0   \n",
       "3                                       0                  0   \n",
       "4                                       1                  0   \n",
       "\n",
       "   Mid-Block (but intersection related)  \\\n",
       "0                                     0   \n",
       "1                                     0   \n",
       "2                                     0   \n",
       "3                                     0   \n",
       "4                                     0   \n",
       "\n",
       "   Mid-Block (not related to intersection)  Ramp Junction  \n",
       "0                                        0              0  \n",
       "1                                        1              0  \n",
       "2                                        1              0  \n",
       "3                                        1              0  \n",
       "4                                        0              0  "
      ]
     },
     "execution_count": 13,
     "metadata": {},
     "output_type": "execute_result"
    }
   ],
   "source": [
    "df['JUNCTIONTYPE'].replace(np.NaN, \"Mid-Block (not related to intersection)\", inplace=True)\n",
    "df = pd.concat([df,pd.get_dummies(df['JUNCTIONTYPE'])], axis=1)\n",
    "df.drop(['Unknown'], axis=1, inplace=True)\n",
    "df.drop([\"JUNCTIONTYPE\"],axis=1, inplace=True) \n",
    "df.head()"
   ]
  },
  {
   "cell_type": "markdown",
   "metadata": {},
   "source": [
    "For `WEATHER,` the mode “Clear” will replace all 5,081 missing values. Since there is no indication what “Other” weather is, it is merged with the category “Unknown”. “Unknown” is renamed as “Unknown Weather” to distinguish it from the variable “Unknown Roadcond” to be created in the next step. Additionally, as “Partly Cloudy” is insignificant to it is merged with “Overcast”. `WEATHER` is also dropped in place for its dummies."
   ]
  },
  {
   "cell_type": "code",
   "execution_count": 14,
   "metadata": {},
   "outputs": [
    {
     "name": "stdout",
     "output_type": "stream",
     "text": [
      "SEVERITYCODE  WEATHER                 \n",
      "1             Clear                       75295\n",
      "              Raining                     21969\n",
      "              Overcast                    18969\n",
      "              Unknown                     14275\n",
      "              Snowing                       736\n",
      "              Other                         716\n",
      "              Fog/Smog/Smoke                382\n",
      "              Sleet/Hail/Freezing Rain       85\n",
      "              Blowing Sand/Dirt              41\n",
      "              Severe Crosswind               18\n",
      "              Partly Cloudy                   2\n",
      "2             Clear                       35840\n",
      "              Raining                     11176\n",
      "              Overcast                     8745\n",
      "              Unknown                       816\n",
      "              Fog/Smog/Smoke                187\n",
      "              Snowing                       171\n",
      "              Other                         116\n",
      "              Sleet/Hail/Freezing Rain       28\n",
      "              Blowing Sand/Dirt              15\n",
      "              Severe Crosswind                7\n",
      "              Partly Cloudy                   3\n",
      "Name: WEATHER, dtype: int64\n",
      "5081\n"
     ]
    },
    {
     "data": {
      "image/png": "[encoded data removed]",
      "text/plain": [
       "<Figure size 720x720 with 1 Axes>"
      ]
     },
     "metadata": {},
     "output_type": "display_data"
    }
   ],
   "source": [
    "order = df[\"WEATHER\"].value_counts().to_frame()\n",
    "ax = sns.countplot(y=\"WEATHER\", hue=\"SEVERITYCODE\", order=order.index, data=df)\n",
    "print(df.groupby(['SEVERITYCODE'])['WEATHER'].value_counts())\n",
    "print(df[\"WEATHER\"].isna().sum())"
   ]
  },
  {
   "cell_type": "code",
   "execution_count": 15,
   "metadata": {},
   "outputs": [
    {
     "data": {
      "text/html": [
       "<div>\n",
       "<style scoped>\n",
       "    .dataframe tbody tr th:only-of-type {\n",
       "        vertical-align: middle;\n",
       "    }\n",
       "\n",
       "    .dataframe tbody tr th {\n",
       "        vertical-align: top;\n",
       "    }\n",
       "\n",
       "    .dataframe thead th {\n",
       "        text-align: right;\n",
       "    }\n",
       "</style>\n",
       "<table border=\"1\" class=\"dataframe\">\n",
       "  <thead>\n",
       "    <tr style=\"text-align: right;\">\n",
       "      <th></th>\n",
       "      <th>SEVERITYCODE</th>\n",
       "      <th>LONGITUDE</th>\n",
       "      <th>LATITUDE</th>\n",
       "      <th>INCDATE</th>\n",
       "      <th>INCDTTM</th>\n",
       "      <th>INATTENTIONIND</th>\n",
       "      <th>UNDERINFL</th>\n",
       "      <th>ROADCOND</th>\n",
       "      <th>LIGHTCOND</th>\n",
       "      <th>SPEEDING</th>\n",
       "      <th>...</th>\n",
       "      <th>Ramp Junction</th>\n",
       "      <th>Blowing Sand/Dirt</th>\n",
       "      <th>Clear</th>\n",
       "      <th>Fog/Smog/Smoke</th>\n",
       "      <th>Overcast</th>\n",
       "      <th>Raining</th>\n",
       "      <th>Severe Crosswind</th>\n",
       "      <th>Sleet/Hail/Freezing Rain</th>\n",
       "      <th>Snowing</th>\n",
       "      <th>Unknown Weather</th>\n",
       "    </tr>\n",
       "  </thead>\n",
       "  <tbody>\n",
       "    <tr>\n",
       "      <th>0</th>\n",
       "      <td>2</td>\n",
       "      <td>-122.323148</td>\n",
       "      <td>47.703140</td>\n",
       "      <td>2013/03/27 00:00:00+00</td>\n",
       "      <td>3/27/2013 2:54:00 PM</td>\n",
       "      <td>NaN</td>\n",
       "      <td>N</td>\n",
       "      <td>Wet</td>\n",
       "      <td>Daylight</td>\n",
       "      <td>NaN</td>\n",
       "      <td>...</td>\n",
       "      <td>0</td>\n",
       "      <td>0</td>\n",
       "      <td>0</td>\n",
       "      <td>0</td>\n",
       "      <td>1</td>\n",
       "      <td>0</td>\n",
       "      <td>0</td>\n",
       "      <td>0</td>\n",
       "      <td>0</td>\n",
       "      <td>0</td>\n",
       "    </tr>\n",
       "    <tr>\n",
       "      <th>1</th>\n",
       "      <td>1</td>\n",
       "      <td>-122.347294</td>\n",
       "      <td>47.647172</td>\n",
       "      <td>2006/12/20 00:00:00+00</td>\n",
       "      <td>12/20/2006 6:55:00 PM</td>\n",
       "      <td>NaN</td>\n",
       "      <td>0</td>\n",
       "      <td>Wet</td>\n",
       "      <td>Dark - Street Lights On</td>\n",
       "      <td>NaN</td>\n",
       "      <td>...</td>\n",
       "      <td>0</td>\n",
       "      <td>0</td>\n",
       "      <td>0</td>\n",
       "      <td>0</td>\n",
       "      <td>0</td>\n",
       "      <td>1</td>\n",
       "      <td>0</td>\n",
       "      <td>0</td>\n",
       "      <td>0</td>\n",
       "      <td>0</td>\n",
       "    </tr>\n",
       "    <tr>\n",
       "      <th>2</th>\n",
       "      <td>1</td>\n",
       "      <td>-122.334540</td>\n",
       "      <td>47.607871</td>\n",
       "      <td>2004/11/18 00:00:00+00</td>\n",
       "      <td>11/18/2004 10:20:00 AM</td>\n",
       "      <td>NaN</td>\n",
       "      <td>0</td>\n",
       "      <td>Dry</td>\n",
       "      <td>Daylight</td>\n",
       "      <td>NaN</td>\n",
       "      <td>...</td>\n",
       "      <td>0</td>\n",
       "      <td>0</td>\n",
       "      <td>0</td>\n",
       "      <td>0</td>\n",
       "      <td>1</td>\n",
       "      <td>0</td>\n",
       "      <td>0</td>\n",
       "      <td>0</td>\n",
       "      <td>0</td>\n",
       "      <td>0</td>\n",
       "    </tr>\n",
       "    <tr>\n",
       "      <th>3</th>\n",
       "      <td>1</td>\n",
       "      <td>-122.334803</td>\n",
       "      <td>47.604803</td>\n",
       "      <td>2013/03/29 00:00:00+00</td>\n",
       "      <td>3/29/2013 9:26:00 AM</td>\n",
       "      <td>NaN</td>\n",
       "      <td>N</td>\n",
       "      <td>Dry</td>\n",
       "      <td>Daylight</td>\n",
       "      <td>NaN</td>\n",
       "      <td>...</td>\n",
       "      <td>0</td>\n",
       "      <td>0</td>\n",
       "      <td>1</td>\n",
       "      <td>0</td>\n",
       "      <td>0</td>\n",
       "      <td>0</td>\n",
       "      <td>0</td>\n",
       "      <td>0</td>\n",
       "      <td>0</td>\n",
       "      <td>0</td>\n",
       "    </tr>\n",
       "    <tr>\n",
       "      <th>4</th>\n",
       "      <td>2</td>\n",
       "      <td>-122.306426</td>\n",
       "      <td>47.545739</td>\n",
       "      <td>2004/01/28 00:00:00+00</td>\n",
       "      <td>1/28/2004 8:04:00 AM</td>\n",
       "      <td>NaN</td>\n",
       "      <td>0</td>\n",
       "      <td>Wet</td>\n",
       "      <td>Daylight</td>\n",
       "      <td>NaN</td>\n",
       "      <td>...</td>\n",
       "      <td>0</td>\n",
       "      <td>0</td>\n",
       "      <td>0</td>\n",
       "      <td>0</td>\n",
       "      <td>0</td>\n",
       "      <td>1</td>\n",
       "      <td>0</td>\n",
       "      <td>0</td>\n",
       "      <td>0</td>\n",
       "      <td>0</td>\n",
       "    </tr>\n",
       "  </tbody>\n",
       "</table>\n",
       "<p>5 rows × 25 columns</p>\n",
       "</div>"
      ],
      "text/plain": [
       "   SEVERITYCODE   LONGITUDE   LATITUDE                 INCDATE  \\\n",
       "0             2 -122.323148  47.703140  2013/03/27 00:00:00+00   \n",
       "1             1 -122.347294  47.647172  2006/12/20 00:00:00+00   \n",
       "2             1 -122.334540  47.607871  2004/11/18 00:00:00+00   \n",
       "3             1 -122.334803  47.604803  2013/03/29 00:00:00+00   \n",
       "4             2 -122.306426  47.545739  2004/01/28 00:00:00+00   \n",
       "\n",
       "                  INCDTTM INATTENTIONIND UNDERINFL ROADCOND  \\\n",
       "0    3/27/2013 2:54:00 PM            NaN         N      Wet   \n",
       "1   12/20/2006 6:55:00 PM            NaN         0      Wet   \n",
       "2  11/18/2004 10:20:00 AM            NaN         0      Dry   \n",
       "3    3/29/2013 9:26:00 AM            NaN         N      Dry   \n",
       "4    1/28/2004 8:04:00 AM            NaN         0      Wet   \n",
       "\n",
       "                 LIGHTCOND SPEEDING  ...  Ramp Junction  Blowing Sand/Dirt  \\\n",
       "0                 Daylight      NaN  ...              0                  0   \n",
       "1  Dark - Street Lights On      NaN  ...              0                  0   \n",
       "2                 Daylight      NaN  ...              0                  0   \n",
       "3                 Daylight      NaN  ...              0                  0   \n",
       "4                 Daylight      NaN  ...              0                  0   \n",
       "\n",
       "   Clear  Fog/Smog/Smoke  Overcast  Raining  Severe Crosswind  \\\n",
       "0      0               0         1        0                 0   \n",
       "1      0               0         0        1                 0   \n",
       "2      0               0         1        0                 0   \n",
       "3      1               0         0        0                 0   \n",
       "4      0               0         0        1                 0   \n",
       "\n",
       "   Sleet/Hail/Freezing Rain  Snowing  Unknown Weather  \n",
       "0                         0        0                0  \n",
       "1                         0        0                0  \n",
       "2                         0        0                0  \n",
       "3                         0        0                0  \n",
       "4                         0        0                0  \n",
       "\n",
       "[5 rows x 25 columns]"
      ]
     },
     "execution_count": 15,
     "metadata": {},
     "output_type": "execute_result"
    }
   ],
   "source": [
    "df[\"WEATHER\"].replace(np.NaN, \"Clear\", inplace=True)\n",
    "df[\"WEATHER\"].replace(\"Other\", \"Unknown\", inplace=True)\n",
    "df[\"WEATHER\"].replace(\"Unknown\", \"Unknown Weather\", inplace=True)\n",
    "df[\"WEATHER\"].replace(\"Partly Cloudy\", \"Overcast\", inplace=True)\n",
    "df = pd.concat([df,pd.get_dummies(df['WEATHER'])], axis=1)\n",
    "df.drop([\"WEATHER\"],axis=1, inplace=True)\n",
    "df.head()"
   ]
  },
  {
   "cell_type": "markdown",
   "metadata": {},
   "source": [
    "“Dry” is the mode of `ROADCOND` and will replace all the 5,012 missing values. Again, “Other” is merged with “Unknown”. Moreover, “Standing Water” is added to “Wet” and “Snow/Slush” is added to “Ice” as the former in those pairs are very similar to the latter. “Unknown” is renamed “Unknown Roadcond”. It should not be dropped as it is the third largest category."
   ]
  },
  {
   "cell_type": "code",
   "execution_count": 16,
   "metadata": {},
   "outputs": [
    {
     "name": "stdout",
     "output_type": "stream",
     "text": [
      "SEVERITYCODE  ROADCOND      \n",
      "1             Dry               84446\n",
      "              Wet               31719\n",
      "              Unknown           14329\n",
      "              Ice                 936\n",
      "              Snow/Slush          837\n",
      "              Other                89\n",
      "              Standing Water       85\n",
      "              Sand/Mud/Dirt        52\n",
      "              Oil                  40\n",
      "2             Dry               40064\n",
      "              Wet               15755\n",
      "              Unknown             749\n",
      "              Ice                 273\n",
      "              Snow/Slush          167\n",
      "              Other                43\n",
      "              Standing Water       30\n",
      "              Oil                  24\n",
      "              Sand/Mud/Dirt        23\n",
      "Name: ROADCOND, dtype: int64\n",
      "5012\n"
     ]
    },
    {
     "data": {
      "image/png": "[encoded data removed]",
      "text/plain": [
       "<Figure size 720x720 with 1 Axes>"
      ]
     },
     "metadata": {},
     "output_type": "display_data"
    }
   ],
   "source": [
    "order = df[\"ROADCOND\"].value_counts().to_frame()\n",
    "ax = sns.countplot(y=\"ROADCOND\", hue=\"SEVERITYCODE\", order=order.index, data=df)\n",
    "print(df.groupby(['SEVERITYCODE'])['ROADCOND'].value_counts())\n",
    "print(df[\"ROADCOND\"].isna().sum())"
   ]
  },
  {
   "cell_type": "code",
   "execution_count": 17,
   "metadata": {},
   "outputs": [
    {
     "data": {
      "text/html": [
       "<div>\n",
       "<style scoped>\n",
       "    .dataframe tbody tr th:only-of-type {\n",
       "        vertical-align: middle;\n",
       "    }\n",
       "\n",
       "    .dataframe tbody tr th {\n",
       "        vertical-align: top;\n",
       "    }\n",
       "\n",
       "    .dataframe thead th {\n",
       "        text-align: right;\n",
       "    }\n",
       "</style>\n",
       "<table border=\"1\" class=\"dataframe\">\n",
       "  <thead>\n",
       "    <tr style=\"text-align: right;\">\n",
       "      <th></th>\n",
       "      <th>SEVERITYCODE</th>\n",
       "      <th>LONGITUDE</th>\n",
       "      <th>LATITUDE</th>\n",
       "      <th>INCDATE</th>\n",
       "      <th>INCDTTM</th>\n",
       "      <th>INATTENTIONIND</th>\n",
       "      <th>UNDERINFL</th>\n",
       "      <th>LIGHTCOND</th>\n",
       "      <th>SPEEDING</th>\n",
       "      <th>At Intersection (but not related to intersection)</th>\n",
       "      <th>...</th>\n",
       "      <th>Severe Crosswind</th>\n",
       "      <th>Sleet/Hail/Freezing Rain</th>\n",
       "      <th>Snowing</th>\n",
       "      <th>Unknown Weather</th>\n",
       "      <th>Dry</th>\n",
       "      <th>Ice</th>\n",
       "      <th>Oil</th>\n",
       "      <th>Sand/Mud/Dirt</th>\n",
       "      <th>Unknown Roadcond</th>\n",
       "      <th>Wet</th>\n",
       "    </tr>\n",
       "  </thead>\n",
       "  <tbody>\n",
       "    <tr>\n",
       "      <th>0</th>\n",
       "      <td>2</td>\n",
       "      <td>-122.323148</td>\n",
       "      <td>47.703140</td>\n",
       "      <td>2013/03/27 00:00:00+00</td>\n",
       "      <td>3/27/2013 2:54:00 PM</td>\n",
       "      <td>NaN</td>\n",
       "      <td>N</td>\n",
       "      <td>Daylight</td>\n",
       "      <td>NaN</td>\n",
       "      <td>0</td>\n",
       "      <td>...</td>\n",
       "      <td>0</td>\n",
       "      <td>0</td>\n",
       "      <td>0</td>\n",
       "      <td>0</td>\n",
       "      <td>0</td>\n",
       "      <td>0</td>\n",
       "      <td>0</td>\n",
       "      <td>0</td>\n",
       "      <td>0</td>\n",
       "      <td>1</td>\n",
       "    </tr>\n",
       "    <tr>\n",
       "      <th>1</th>\n",
       "      <td>1</td>\n",
       "      <td>-122.347294</td>\n",
       "      <td>47.647172</td>\n",
       "      <td>2006/12/20 00:00:00+00</td>\n",
       "      <td>12/20/2006 6:55:00 PM</td>\n",
       "      <td>NaN</td>\n",
       "      <td>0</td>\n",
       "      <td>Dark - Street Lights On</td>\n",
       "      <td>NaN</td>\n",
       "      <td>0</td>\n",
       "      <td>...</td>\n",
       "      <td>0</td>\n",
       "      <td>0</td>\n",
       "      <td>0</td>\n",
       "      <td>0</td>\n",
       "      <td>0</td>\n",
       "      <td>0</td>\n",
       "      <td>0</td>\n",
       "      <td>0</td>\n",
       "      <td>0</td>\n",
       "      <td>1</td>\n",
       "    </tr>\n",
       "    <tr>\n",
       "      <th>2</th>\n",
       "      <td>1</td>\n",
       "      <td>-122.334540</td>\n",
       "      <td>47.607871</td>\n",
       "      <td>2004/11/18 00:00:00+00</td>\n",
       "      <td>11/18/2004 10:20:00 AM</td>\n",
       "      <td>NaN</td>\n",
       "      <td>0</td>\n",
       "      <td>Daylight</td>\n",
       "      <td>NaN</td>\n",
       "      <td>0</td>\n",
       "      <td>...</td>\n",
       "      <td>0</td>\n",
       "      <td>0</td>\n",
       "      <td>0</td>\n",
       "      <td>0</td>\n",
       "      <td>1</td>\n",
       "      <td>0</td>\n",
       "      <td>0</td>\n",
       "      <td>0</td>\n",
       "      <td>0</td>\n",
       "      <td>0</td>\n",
       "    </tr>\n",
       "    <tr>\n",
       "      <th>3</th>\n",
       "      <td>1</td>\n",
       "      <td>-122.334803</td>\n",
       "      <td>47.604803</td>\n",
       "      <td>2013/03/29 00:00:00+00</td>\n",
       "      <td>3/29/2013 9:26:00 AM</td>\n",
       "      <td>NaN</td>\n",
       "      <td>N</td>\n",
       "      <td>Daylight</td>\n",
       "      <td>NaN</td>\n",
       "      <td>0</td>\n",
       "      <td>...</td>\n",
       "      <td>0</td>\n",
       "      <td>0</td>\n",
       "      <td>0</td>\n",
       "      <td>0</td>\n",
       "      <td>1</td>\n",
       "      <td>0</td>\n",
       "      <td>0</td>\n",
       "      <td>0</td>\n",
       "      <td>0</td>\n",
       "      <td>0</td>\n",
       "    </tr>\n",
       "    <tr>\n",
       "      <th>4</th>\n",
       "      <td>2</td>\n",
       "      <td>-122.306426</td>\n",
       "      <td>47.545739</td>\n",
       "      <td>2004/01/28 00:00:00+00</td>\n",
       "      <td>1/28/2004 8:04:00 AM</td>\n",
       "      <td>NaN</td>\n",
       "      <td>0</td>\n",
       "      <td>Daylight</td>\n",
       "      <td>NaN</td>\n",
       "      <td>0</td>\n",
       "      <td>...</td>\n",
       "      <td>0</td>\n",
       "      <td>0</td>\n",
       "      <td>0</td>\n",
       "      <td>0</td>\n",
       "      <td>0</td>\n",
       "      <td>0</td>\n",
       "      <td>0</td>\n",
       "      <td>0</td>\n",
       "      <td>0</td>\n",
       "      <td>1</td>\n",
       "    </tr>\n",
       "  </tbody>\n",
       "</table>\n",
       "<p>5 rows × 30 columns</p>\n",
       "</div>"
      ],
      "text/plain": [
       "   SEVERITYCODE   LONGITUDE   LATITUDE                 INCDATE  \\\n",
       "0             2 -122.323148  47.703140  2013/03/27 00:00:00+00   \n",
       "1             1 -122.347294  47.647172  2006/12/20 00:00:00+00   \n",
       "2             1 -122.334540  47.607871  2004/11/18 00:00:00+00   \n",
       "3             1 -122.334803  47.604803  2013/03/29 00:00:00+00   \n",
       "4             2 -122.306426  47.545739  2004/01/28 00:00:00+00   \n",
       "\n",
       "                  INCDTTM INATTENTIONIND UNDERINFL                LIGHTCOND  \\\n",
       "0    3/27/2013 2:54:00 PM            NaN         N                 Daylight   \n",
       "1   12/20/2006 6:55:00 PM            NaN         0  Dark - Street Lights On   \n",
       "2  11/18/2004 10:20:00 AM            NaN         0                 Daylight   \n",
       "3    3/29/2013 9:26:00 AM            NaN         N                 Daylight   \n",
       "4    1/28/2004 8:04:00 AM            NaN         0                 Daylight   \n",
       "\n",
       "  SPEEDING  At Intersection (but not related to intersection)  ...  \\\n",
       "0      NaN                                                  0  ...   \n",
       "1      NaN                                                  0  ...   \n",
       "2      NaN                                                  0  ...   \n",
       "3      NaN                                                  0  ...   \n",
       "4      NaN                                                  0  ...   \n",
       "\n",
       "   Severe Crosswind  Sleet/Hail/Freezing Rain  Snowing  Unknown Weather  Dry  \\\n",
       "0                 0                         0        0                0    0   \n",
       "1                 0                         0        0                0    0   \n",
       "2                 0                         0        0                0    1   \n",
       "3                 0                         0        0                0    1   \n",
       "4                 0                         0        0                0    0   \n",
       "\n",
       "   Ice  Oil  Sand/Mud/Dirt  Unknown Roadcond  Wet  \n",
       "0    0    0              0                 0    1  \n",
       "1    0    0              0                 0    1  \n",
       "2    0    0              0                 0    0  \n",
       "3    0    0              0                 0    0  \n",
       "4    0    0              0                 0    1  \n",
       "\n",
       "[5 rows x 30 columns]"
      ]
     },
     "execution_count": 17,
     "metadata": {},
     "output_type": "execute_result"
    }
   ],
   "source": [
    "df[\"ROADCOND\"].replace(np.NaN, \"Dry\", inplace=True)\n",
    "df[\"ROADCOND\"].replace(\"Other\", \"Unknown\", inplace=True)\n",
    "df[\"ROADCOND\"].replace(\"Unknown\", \"Unknown Roadcond\", inplace=True)\n",
    "df[\"ROADCOND\"].replace(\"Standing Water\", \"Wet\", inplace=True)\n",
    "df[\"ROADCOND\"].replace(\"Snow/Slush\", \"Ice\", inplace=True)\n",
    "df = pd.concat([df,pd.get_dummies(df['ROADCOND'])], axis=1)\n",
    "df.drop([\"ROADCOND\"],axis=1, inplace=True)\n",
    "df.head()"
   ]
  },
  {
   "cell_type": "markdown",
   "metadata": {},
   "source": [
    "Lastly, `LIGHTCOND` is encoded as a single dummy, where 0 stands for “Daylight” and 1 for all other conditions. 5,170 missing values are also replaced with “Daylight,” the most frequent category."
   ]
  },
  {
   "cell_type": "code",
   "execution_count": 18,
   "metadata": {},
   "outputs": [
    {
     "name": "stdout",
     "output_type": "stream",
     "text": [
      "SEVERITYCODE  LIGHTCOND               \n",
      "1             Daylight                    77593\n",
      "              Dark - Street Lights On     34032\n",
      "              Unknown                     12868\n",
      "              Dusk                         3958\n",
      "              Dawn                         1678\n",
      "              Dark - No Street Lights      1203\n",
      "              Dark - Street Lights Off      883\n",
      "              Other                         183\n",
      "              Dark - Unknown Lighting         7\n",
      "2             Daylight                    38544\n",
      "              Dark - Street Lights On     14475\n",
      "              Dusk                         1944\n",
      "              Dawn                          824\n",
      "              Unknown                       605\n",
      "              Dark - No Street Lights       334\n",
      "              Dark - Street Lights Off      316\n",
      "              Other                          52\n",
      "              Dark - Unknown Lighting         4\n",
      "Name: LIGHTCOND, dtype: int64\n",
      "5170\n"
     ]
    },
    {
     "data": {
      "image/png": "[encoded data removed]",
      "text/plain": [
       "<Figure size 720x720 with 1 Axes>"
      ]
     },
     "metadata": {},
     "output_type": "display_data"
    }
   ],
   "source": [
    "order = df[\"LIGHTCOND\"].value_counts().to_frame()\n",
    "ax = sns.countplot(y=\"LIGHTCOND\", hue=\"SEVERITYCODE\", order=order.index, data=df)\n",
    "print(df.groupby(['SEVERITYCODE'])['LIGHTCOND'].value_counts())\n",
    "print(df[\"LIGHTCOND\"].isna().sum())"
   ]
  },
  {
   "cell_type": "code",
   "execution_count": 19,
   "metadata": {},
   "outputs": [
    {
     "data": {
      "text/plain": [
       "Daylight                    121307\n",
       "Dark - Street Lights On      48507\n",
       "Unknown                      13473\n",
       "Dusk                          5902\n",
       "Dawn                          2502\n",
       "Dark - No Street Lights       1537\n",
       "Dark - Street Lights Off      1199\n",
       "Other                          235\n",
       "Dark - Unknown Lighting         11\n",
       "Name: LIGHTCOND, dtype: int64"
      ]
     },
     "execution_count": 19,
     "metadata": {},
     "output_type": "execute_result"
    }
   ],
   "source": [
    "df[\"LIGHTCOND\"].replace(np.NaN, \"Daylight\", inplace=True)\n",
    "df[\"LIGHTCOND\"].value_counts()"
   ]
  },
  {
   "cell_type": "code",
   "execution_count": 20,
   "metadata": {},
   "outputs": [
    {
     "data": {
      "text/plain": [
       "0    121307\n",
       "1     73366\n",
       "Name: LIGHTCOND, dtype: int64"
      ]
     },
     "execution_count": 20,
     "metadata": {},
     "output_type": "execute_result"
    }
   ],
   "source": [
    "encoding_LIGHTCOND = {\"LIGHTCOND\": \n",
    "                            {\"Daylight\": 0,\n",
    "                             \"Unknown\": 1,\n",
    "                             \"Other\": 1,\n",
    "                             \"Dark - Street Lights On\": 1,\n",
    "                             \"Dusk\": 1,\n",
    "                             \"Dawn\": 1,\n",
    "                             \"Dark - No Street Lights\": 1,\n",
    "                             \"Dark - Street Lights Off\": 1,\n",
    "                             \"Dark - Unknown Lighting\": 1,\n",
    "                              }}\n",
    "df.replace(encoding_LIGHTCOND, inplace=True)\n",
    "df['LIGHTCOND'].value_counts()"
   ]
  },
  {
   "cell_type": "markdown",
   "metadata": {},
   "source": [
    "### 3.2 Human Behavior Variables\n",
    "The variables `INATTENTIONIND, UNDERINFL,` and `SPEEDING` describe human behaviors that are assumed to increase the chances of an accident.\n",
    "\n",
    "For `INATTENTIONIND,` 29,805 observations are given as “Y”, which means the missing 164,868 will assumed to be “N” and filled in accordingly. They are encoded as 1 and 0 respectively. It is very intuitive as this suggests that most accidents happen even when people are not paying attention to traffic. Since attention span may be highly depended on the time of the day, the variable `INCDTTM` is dropped.``"
   ]
  },
  {
   "cell_type": "code",
   "execution_count": 21,
   "metadata": {},
   "outputs": [
    {
     "name": "stdout",
     "output_type": "stream",
     "text": [
      "Y    29805\n",
      "Name: INATTENTIONIND, dtype: int64\n",
      "164868\n"
     ]
    }
   ],
   "source": [
    "print(df[\"INATTENTIONIND\"].value_counts())\n",
    "print(df[\"INATTENTIONIND\"].isna().sum())"
   ]
  },
  {
   "cell_type": "code",
   "execution_count": 22,
   "metadata": {},
   "outputs": [],
   "source": [
    "df['INATTENTIONIND'].replace(np.NaN, \"N\", inplace=True)\n",
    "encoding_INATTENTIONIND = {\"INATTENTIONIND\": \n",
    "                            {\"Y\": 1,\n",
    "                             \"N\": 0,\n",
    "                              }}\n",
    "df.replace(encoding_INATTENTIONIND, inplace=True)\n",
    "df['INATTENTIONIND'].value_counts()\n",
    "df.drop([\"INCDTTM\"],axis=1, inplace=True)"
   ]
  },
  {
   "cell_type": "code",
   "execution_count": 23,
   "metadata": {},
   "outputs": [
    {
     "data": {
      "image/png": "[encoded data removed]",
      "text/plain": [
       "<Figure size 720x720 with 1 Axes>"
      ]
     },
     "metadata": {},
     "output_type": "display_data"
    }
   ],
   "source": [
    "ax = sns.countplot(y=\"INATTENTIONIND\", hue=\"SEVERITYCODE\", data=df)"
   ]
  },
  {
   "cell_type": "markdown",
   "metadata": {},
   "source": [
    "The column `UNDERINFL` has four values (“Y”, “N”, 1, and 0). Since no further indication is given in the metadata, it is assumed that “Y” equates to 1 and “N” equates to 0. Missing values are placed with 0. Here a highly counter-intuitive picture emerges, most accidents happen when people are not under the influence of drugs or alcohol."
   ]
  },
  {
   "cell_type": "code",
   "execution_count": 24,
   "metadata": {},
   "outputs": [
    {
     "name": "stdout",
     "output_type": "stream",
     "text": [
      "SEVERITYCODE  UNDERINFL\n",
      "1             N            69378\n",
      "              0            57693\n",
      "              Y             3187\n",
      "              1             2372\n",
      "2             N            30896\n",
      "              0            22701\n",
      "              Y             1939\n",
      "              1             1623\n",
      "Name: UNDERINFL, dtype: int64\n",
      "4884\n"
     ]
    }
   ],
   "source": [
    "print(df.groupby(['SEVERITYCODE'])['UNDERINFL'].value_counts())\n",
    "print(df[\"UNDERINFL\"].isna().sum())"
   ]
  },
  {
   "cell_type": "code",
   "execution_count": 25,
   "metadata": {},
   "outputs": [
    {
     "name": "stdout",
     "output_type": "stream",
     "text": [
      "0    185552\n",
      "1      9121\n",
      "Name: UNDERINFL, dtype: int64\n",
      "int64\n"
     ]
    }
   ],
   "source": [
    "df[\"UNDERINFL\"].fillna(0, inplace=True)\n",
    "encoding_UNDERINFL = {\"UNDERINFL\": \n",
    "                            {\"1\": 1,\n",
    "                             \"0\": 0,\n",
    "                             \"Y\": 1,\n",
    "                             \"N\": 0\n",
    "                              }}\n",
    "df.replace(encoding_UNDERINFL, inplace=True)\n",
    "print(df[\"UNDERINFL\"].value_counts())\n",
    "print(df[\"UNDERINFL\"].dtypes)"
   ]
  },
  {
   "cell_type": "code",
   "execution_count": 26,
   "metadata": {},
   "outputs": [
    {
     "data": {
      "image/png": "[encoded data removed]",
      "text/plain": [
       "<Figure size 720x720 with 1 Axes>"
      ]
     },
     "metadata": {},
     "output_type": "display_data"
    }
   ],
   "source": [
    "ax = sns.countplot(y=\"UNDERINFL\", hue=\"SEVERITYCODE\", data=df)"
   ]
  },
  {
   "cell_type": "markdown",
   "metadata": {},
   "source": [
    "For `SPEEDING,` 9,333 observations are given as “Y”, which means the missing 185,340 will assumed to be “N”. They are also encoded as 1 and 0. Counter-intuitively, most collisions occurred without speeding."
   ]
  },
  {
   "cell_type": "code",
   "execution_count": 27,
   "metadata": {},
   "outputs": [
    {
     "name": "stdout",
     "output_type": "stream",
     "text": [
      "Y    9333\n",
      "Name: SPEEDING, dtype: int64\n",
      "185340\n"
     ]
    }
   ],
   "source": [
    "print(df['SPEEDING'].value_counts())\n",
    "print(df[\"SPEEDING\"].isna().sum())"
   ]
  },
  {
   "cell_type": "code",
   "execution_count": 28,
   "metadata": {},
   "outputs": [
    {
     "data": {
      "text/plain": [
       "0    185340\n",
       "1      9333\n",
       "Name: SPEEDING, dtype: int64"
      ]
     },
     "execution_count": 28,
     "metadata": {},
     "output_type": "execute_result"
    }
   ],
   "source": [
    "df[\"SPEEDING\"].replace(np.NaN, \"N\", inplace=True)\n",
    "encoding_SPEEDING = {\"SPEEDING\": \n",
    "                            {\"Y\": 1,\n",
    "                             \"N\": 0,\n",
    "                              }}\n",
    "df.replace(encoding_SPEEDING, inplace=True)\n",
    "df['SPEEDING'].value_counts()"
   ]
  },
  {
   "cell_type": "code",
   "execution_count": 29,
   "metadata": {},
   "outputs": [
    {
     "data": {
      "image/png": "[encoded data removed]",
      "text/plain": [
       "<Figure size 720x720 with 1 Axes>"
      ]
     },
     "metadata": {},
     "output_type": "display_data"
    }
   ],
   "source": [
    "ax = sns.countplot(y=\"SPEEDING\", hue=\"SEVERITYCODE\", data=df)"
   ]
  },
  {
   "cell_type": "markdown",
   "metadata": {},
   "source": [
    "### 3.3 Date-Time Variables\n",
    "The assumption about the date of the collision is closely related to those about the human behavior variables, i.e. during certain days of the week, people are less attentive, for instance, due to exhaustion from work. A cursory analysis confirms that most collisions happen on Fridays while the fewest happen on Sunday . The variable `INCDATE` is converted into dummy variable, where 1 stands for weekend and 0 weekdays."
   ]
  },
  {
   "cell_type": "code",
   "execution_count": 30,
   "metadata": {},
   "outputs": [
    {
     "data": {
      "text/plain": [
       "0   2013-03-27 00:00:00+00:00\n",
       "1   2006-12-20 00:00:00+00:00\n",
       "2   2004-11-18 00:00:00+00:00\n",
       "3   2013-03-29 00:00:00+00:00\n",
       "4   2004-01-28 00:00:00+00:00\n",
       "Name: INCDATE, dtype: datetime64[ns, UTC]"
      ]
     },
     "execution_count": 30,
     "metadata": {},
     "output_type": "execute_result"
    }
   ],
   "source": [
    "df[\"INCDATE\"] = pd.to_datetime(df[\"INCDATE\"])\n",
    "df[\"INCDATE\"].head()"
   ]
  },
  {
   "cell_type": "code",
   "execution_count": 31,
   "metadata": {},
   "outputs": [
    {
     "data": {
      "text/plain": [
       "4    32333\n",
       "3    29324\n",
       "2    28778\n",
       "1    28556\n",
       "5    27389\n",
       "0    26338\n",
       "6    21955\n",
       "Name: DAYOFWEEK, dtype: int64"
      ]
     },
     "execution_count": 31,
     "metadata": {},
     "output_type": "execute_result"
    }
   ],
   "source": [
    "df[\"DAYOFWEEK\"] = df[\"INCDATE\"].dt.dayofweek\n",
    "df[\"DAYOFWEEK\"].value_counts()"
   ]
  },
  {
   "cell_type": "code",
   "execution_count": 32,
   "metadata": {},
   "outputs": [
    {
     "data": {
      "text/plain": [
       "0    145329\n",
       "1     49344\n",
       "Name: WEEKEND, dtype: int64"
      ]
     },
     "execution_count": 32,
     "metadata": {},
     "output_type": "execute_result"
    }
   ],
   "source": [
    "df['WEEKEND'] = df['DAYOFWEEK'].apply(lambda x: 1 if (x>4)  else 0)\n",
    "df[\"WEEKEND\"].value_counts()"
   ]
  },
  {
   "cell_type": "code",
   "execution_count": 33,
   "metadata": {},
   "outputs": [
    {
     "name": "stdout",
     "output_type": "stream",
     "text": [
      "WEEKEND  SEVERITYCODE\n",
      "0        1               101291\n",
      "         2                44038\n",
      "1        1                35194\n",
      "         2                14150\n",
      "Name: SEVERITYCODE, dtype: int64\n"
     ]
    },
    {
     "data": {
      "image/png": "[encoded data removed]",
      "text/plain": [
       "<Figure size 720x720 with 1 Axes>"
      ]
     },
     "metadata": {},
     "output_type": "display_data"
    }
   ],
   "source": [
    "import seaborn as sns\n",
    "sns.set(style=\"darkgrid\")\n",
    "sns.set(rc={'figure.figsize':(10,10)})\n",
    "ax_weekend = sns.countplot(y=\"WEEKEND\", hue=\"SEVERITYCODE\", data=df)\n",
    "print(df.groupby([\"WEEKEND\"])[\"SEVERITYCODE\"].value_counts())"
   ]
  },
  {
   "cell_type": "code",
   "execution_count": 34,
   "metadata": {},
   "outputs": [
    {
     "name": "stdout",
     "output_type": "stream",
     "text": [
      "DAYOFWEEK  SEVERITYCODE\n",
      "0          1               18365\n",
      "           2                7973\n",
      "1          1               19825\n",
      "           2                8731\n",
      "2          1               20021\n",
      "           2                8757\n",
      "3          1               20306\n",
      "           2                9018\n",
      "4          1               22774\n",
      "           2                9559\n",
      "5          1               19342\n",
      "           2                8047\n",
      "6          1               15852\n",
      "           2                6103\n",
      "Name: SEVERITYCODE, dtype: int64\n"
     ]
    },
    {
     "data": {
      "image/png": "[encoded data removed]",
      "text/plain": [
       "<Figure size 720x720 with 1 Axes>"
      ]
     },
     "metadata": {},
     "output_type": "display_data"
    }
   ],
   "source": [
    "ax_dayofweek = sns.countplot(y=\"DAYOFWEEK\", hue=\"SEVERITYCODE\", data=df)\n",
    "print(df.groupby([\"DAYOFWEEK\"])[\"SEVERITYCODE\"].value_counts())"
   ]
  },
  {
   "cell_type": "code",
   "execution_count": 35,
   "metadata": {},
   "outputs": [],
   "source": [
    "df.drop([\"INCDATE\"],axis=1, inplace=True)\n",
    "df.drop([\"DAYOFWEEK\"],axis=1, inplace=True)"
   ]
  },
  {
   "cell_type": "markdown",
   "metadata": {},
   "source": [
    "__Control Check for Missing Values__"
   ]
  },
  {
   "cell_type": "code",
   "execution_count": 36,
   "metadata": {},
   "outputs": [
    {
     "data": {
      "text/plain": [
       "SEVERITYCODE                                         0\n",
       "LONGITUDE                                            0\n",
       "LATITUDE                                             0\n",
       "INATTENTIONIND                                       0\n",
       "UNDERINFL                                            0\n",
       "LIGHTCOND                                            0\n",
       "SPEEDING                                             0\n",
       "At Intersection (but not related to intersection)    0\n",
       "At Intersection (intersection related)               0\n",
       "Driveway Junction                                    0\n",
       "Mid-Block (but intersection related)                 0\n",
       "Mid-Block (not related to intersection)              0\n",
       "Ramp Junction                                        0\n",
       "Blowing Sand/Dirt                                    0\n",
       "Clear                                                0\n",
       "Fog/Smog/Smoke                                       0\n",
       "Overcast                                             0\n",
       "Raining                                              0\n",
       "Severe Crosswind                                     0\n",
       "Sleet/Hail/Freezing Rain                             0\n",
       "Snowing                                              0\n",
       "Unknown Weather                                      0\n",
       "Dry                                                  0\n",
       "Ice                                                  0\n",
       "Oil                                                  0\n",
       "Sand/Mud/Dirt                                        0\n",
       "Unknown Roadcond                                     0\n",
       "Wet                                                  0\n",
       "WEEKEND                                              0\n",
       "dtype: int64"
      ]
     },
     "execution_count": 36,
     "metadata": {},
     "output_type": "execute_result"
    }
   ],
   "source": [
    "df.isna().sum()"
   ]
  },
  {
   "cell_type": "markdown",
   "metadata": {},
   "source": [
    "### 3.4 Balancing the Dataset\n",
    "In this dataset, 58,188 injury collision (class 2) and 136,485 property-damage-only collision (class 1) are recorded. Many real-world classification problems have an imbalanced class distribution such as fraud detection, churn prediction, or extreme event prediction. Slight imbalances between classes are considered to have ratio around 4:6, while severe imbalances are considered to have a ratio of 1:100 or more. Thus, the Collision Dataset with an approximate ratio of 58:137 has a severe imbalance. The abundant class, in this case property damage collision (class), is called majority class, whereas the one with fewer samples is called minority class. By definition, a minority class is difficult to predict because of its few examples. This means it is more challenging for a machine learning model to learn the characteristics of examples from this class and to distinguish it from the majority class. In fact, most classification algorithms are designed and demonstrated on problems that assume an equal distribution of classes.\n",
    "\n",
    "The two common strategies of rectifying imbalanced classes in machine learning are random over-sampling (ROS) and random under-sampling (RUS). ROS is the process of supplementing the dataset with multiple, randomly chosen copies of cases from the minority class, until the number of samples match the majority class. RUS randomly deletes samples from the majority class until the number of samples matches the minority class. Both methods come with advantages and disadvantages. While ROS may inflate or exaggerate underlying patterns in the minority class, RUS may potentially discard important samples of majority class und distort its underlying patterns. A rule of thumb is to use ROS when the given dataset is small and RUS when the given dataset is large. As the Collision Dataset is sufficiently large, this report employs the method random under-sampling to rectify the imbalance and thereby reducing class 1 collisions to 58,188 samples."
   ]
  },
  {
   "cell_type": "code",
   "execution_count": 37,
   "metadata": {},
   "outputs": [
    {
     "name": "stdout",
     "output_type": "stream",
     "text": [
      "Collecting package metadata (current_repodata.json): done\n",
      "Solving environment: done\n",
      "\n",
      "\n",
      "==> WARNING: A newer version of conda exists. <==\n",
      "  current version: 4.8.3\n",
      "  latest version: 4.8.4\n",
      "\n",
      "Please update conda by running\n",
      "\n",
      "    $ conda update -n base -c defaults conda\n",
      "\n",
      "\n",
      "\n",
      "# All requested packages already installed.\n",
      "\n",
      "\n",
      "Note: you may need to restart the kernel to use updated packages.\n"
     ]
    }
   ],
   "source": [
    "conda install -c conda-forge imbalanced-learn # packages for balance techniques"
   ]
  },
  {
   "cell_type": "code",
   "execution_count": 38,
   "metadata": {},
   "outputs": [
    {
     "data": {
      "text/plain": [
       "Index(['SEVERITYCODE', 'LONGITUDE', 'LATITUDE', 'INATTENTIONIND', 'UNDERINFL',\n",
       "       'LIGHTCOND', 'SPEEDING',\n",
       "       'At Intersection (but not related to intersection)',\n",
       "       'At Intersection (intersection related)', 'Driveway Junction',\n",
       "       'Mid-Block (but intersection related)',\n",
       "       'Mid-Block (not related to intersection)', 'Ramp Junction',\n",
       "       'Blowing Sand/Dirt', 'Clear', 'Fog/Smog/Smoke', 'Overcast', 'Raining',\n",
       "       'Severe Crosswind', 'Sleet/Hail/Freezing Rain', 'Snowing',\n",
       "       'Unknown Weather', 'Dry', 'Ice', 'Oil', 'Sand/Mud/Dirt',\n",
       "       'Unknown Roadcond', 'Wet', 'WEEKEND'],\n",
       "      dtype='object')"
      ]
     },
     "execution_count": 38,
     "metadata": {},
     "output_type": "execute_result"
    }
   ],
   "source": [
    "df.columns"
   ]
  },
  {
   "cell_type": "code",
   "execution_count": 39,
   "metadata": {},
   "outputs": [
    {
     "name": "stdout",
     "output_type": "stream",
     "text": [
      "2    58188\n",
      "1    58188\n",
      "Name: SEVERITYCODE, dtype: int64\n",
      "    LONGITUDE   LATITUDE  INATTENTIONIND  UNDERINFL  LIGHTCOND  SPEEDING  \\\n",
      "0 -122.360474  47.525591               0          1          1         0   \n",
      "1 -122.309524  47.691686               0          0          0         0   \n",
      "2 -122.383230  47.680637               0          0          1         0   \n",
      "3 -122.378418  47.690604               0          0          1         0   \n",
      "4 -122.330518  47.619543               0          0          1         0   \n",
      "\n",
      "   At Intersection (but not related to intersection)  \\\n",
      "0                                                  0   \n",
      "1                                                  0   \n",
      "2                                                  0   \n",
      "3                                                  0   \n",
      "4                                                  0   \n",
      "\n",
      "   At Intersection (intersection related)  Driveway Junction  \\\n",
      "0                                       0                  0   \n",
      "1                                       0                  0   \n",
      "2                                       0                  0   \n",
      "3                                       0                  0   \n",
      "4                                       0                  0   \n",
      "\n",
      "   Mid-Block (but intersection related)  ...  Sleet/Hail/Freezing Rain  \\\n",
      "0                                     0  ...                         0   \n",
      "1                                     0  ...                         0   \n",
      "2                                     0  ...                         0   \n",
      "3                                     0  ...                         0   \n",
      "4                                     0  ...                         0   \n",
      "\n",
      "   Snowing  Unknown Weather  Dry  Ice  Oil  Sand/Mud/Dirt  Unknown Roadcond  \\\n",
      "0        0                0    0    0    0              0                 0   \n",
      "1        0                0    0    1    0              0                 0   \n",
      "2        0                0    1    0    0              0                 0   \n",
      "3        0                0    0    0    0              0                 0   \n",
      "4        0                1    0    0    0              0                 1   \n",
      "\n",
      "   Wet  WEEKEND  \n",
      "0    1        0  \n",
      "1    0        0  \n",
      "2    0        0  \n",
      "3    1        1  \n",
      "4    0        0  \n",
      "\n",
      "[5 rows x 28 columns]\n"
     ]
    }
   ],
   "source": [
    "x = df[['LONGITUDE', 'LATITUDE', 'INATTENTIONIND', 'UNDERINFL',\n",
    "       'LIGHTCOND', 'SPEEDING',\n",
    "       'At Intersection (but not related to intersection)',\n",
    "       'At Intersection (intersection related)', 'Driveway Junction',\n",
    "       'Mid-Block (but intersection related)',\n",
    "       'Mid-Block (not related to intersection)', 'Ramp Junction',\n",
    "       'Blowing Sand/Dirt', 'Clear', 'Fog/Smog/Smoke', 'Overcast', 'Raining',\n",
    "       'Severe Crosswind', 'Sleet/Hail/Freezing Rain', 'Snowing',\n",
    "       'Unknown Weather', 'Dry', 'Ice', 'Oil', 'Sand/Mud/Dirt',\n",
    "       'Unknown Roadcond', 'Wet', 'WEEKEND']] \n",
    "y = df['SEVERITYCODE']\n",
    "from imblearn.under_sampling import RandomUnderSampler\n",
    "RUS = RandomUnderSampler(random_state=0)\n",
    "x_resampled, y_resampled = RUS.fit_resample(x, y)\n",
    "print(y_resampled.value_counts())\n",
    "print(x_resampled[0:5])"
   ]
  },
  {
   "cell_type": "code",
   "execution_count": null,
   "metadata": {},
   "outputs": [],
   "source": []
  }
 ],
 "metadata": {
  "kernelspec": {
   "display_name": "Python",
   "language": "python",
   "name": "conda-env-python-py"
  },
  "language_info": {
   "codemirror_mode": {
    "name": "ipython",
    "version": 3
   },
   "file_extension": ".py",
   "mimetype": "text/x-python",
   "name": "python",
   "nbconvert_exporter": "python",
   "pygments_lexer": "ipython3",
   "version": "3.6.11"
  }
 },
 "nbformat": 4,
 "nbformat_minor": 4
}
